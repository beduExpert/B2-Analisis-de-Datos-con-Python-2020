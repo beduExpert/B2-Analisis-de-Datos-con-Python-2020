{
  "cells": [
    {
      "cell_type": "markdown",
      "metadata": {
        "id": "view-in-github",
        "colab_type": "text"
      },
      "source": [
        "<a href=\"https://colab.research.google.com/github/caballeroarturo/B2-Analisis-de-Datos-con-Python-2020/blob/master/Sesion-07/Ejemplo-04/nltk_freq_dist.ipynb\" target=\"_parent\"><img src=\"https://colab.research.google.com/assets/colab-badge.svg\" alt=\"Open In Colab\"/></a>"
      ]
    },
    {
      "cell_type": "markdown",
      "metadata": {
        "id": "bFgMTwkLqbR8"
      },
      "source": [
        "## Ejemplo 4: Nltk FreqDist\n",
        "\n",
        "### 1. Objetivos:\n",
        "    - Aprender a usar el objeto FreqDist de la librería Nltk\n",
        "\n",
        "---\n",
        "    \n",
        "### 2. Desarrollo:"
      ]
    },
    {
      "cell_type": "markdown",
      "metadata": {
        "id": "Qa1beQ9NqbR9"
      },
      "source": [
        "Ahora vamos a explorar el objeto `FreqDist` que nos facilita el conteo de frecuencias de las palabras en nuestro conjunto de datos. La primera parte del procesamiento es idéntico a la vez pasada."
      ]
    },
    {
      "cell_type": "code",
      "execution_count": 1,
      "metadata": {
        "id": "WtpIqePwqbR9"
      },
      "outputs": [],
      "source": [
        "import pandas as pd\n",
        "import nltk\n",
        "import seaborn as sns\n",
        "import matplotlib.pyplot as plt\n",
        "import numpy as np"
      ]
    },
    {
      "cell_type": "code",
      "source": [
        "path1= \"https://github.com/beduExpert/B2-Analisis-de-Datos-con-Python-2020/raw/master/\""
      ],
      "metadata": {
        "id": "zVlljQ5iwZ97"
      },
      "execution_count": 2,
      "outputs": []
    },
    {
      "cell_type": "code",
      "execution_count": 3,
      "metadata": {
        "id": "-Rwil0N1qbR-",
        "outputId": "21dce299-113a-4661-a3d7-f6c891191a04",
        "colab": {
          "base_uri": "https://localhost:8080/",
          "height": 538
        }
      },
      "outputs": [
        {
          "output_type": "execute_result",
          "data": {
            "text/plain": [
              "                                  amazon_product_url  \\\n",
              "0  http://www.amazon.com/The-Host-Novel-Stephenie...   \n",
              "1  http://www.amazon.com/Love-Youre-With-Emily-Gi...   \n",
              "2  http://www.amazon.com/The-Front-Garano-Patrici...   \n",
              "3  http://www.amazon.com/Snuff-Chuck-Palahniuk/dp...   \n",
              "4  http://www.amazon.com/Sundays-at-Tiffanys-Jame...   \n",
              "\n",
              "                                     author  \\\n",
              "0                           Stephenie Meyer   \n",
              "1                              Emily Giffin   \n",
              "2                         Patricia Cornwell   \n",
              "3                           Chuck Palahniuk   \n",
              "4  James Patterson and Gabrielle Charbonnet   \n",
              "\n",
              "                                         description      publisher  \\\n",
              "0  Aliens have taken control of the minds and bod...  Little, Brown   \n",
              "1  A woman's happy marriage is shaken when she en...   St. Martin's   \n",
              "2  A Massachusetts state investigator and his tea...         Putnam   \n",
              "3  An aging porn queens aims to cap her career by...      Doubleday   \n",
              "4                   A woman finds an unexpected love  Little, Brown   \n",
              "\n",
              "                      title                       oid  \\\n",
              "0                  THE HOST  5b4aa4ead3089013507db18c   \n",
              "1  LOVE THE ONE YOU'RE WITH  5b4aa4ead3089013507db18d   \n",
              "2                 THE FRONT  5b4aa4ead3089013507db18e   \n",
              "3                     SNUFF  5b4aa4ead3089013507db18f   \n",
              "4      SUNDAYS AT TIFFANY’S  5b4aa4ead3089013507db190   \n",
              "\n",
              "   bestsellers_date.numberLong  published_date.numberLong  rank.numberInt  \\\n",
              "0                1211587200000              1212883200000               2   \n",
              "1                1211587200000              1212883200000               3   \n",
              "2                1211587200000              1212883200000               4   \n",
              "3                1211587200000              1212883200000               5   \n",
              "4                1211587200000              1212883200000               6   \n",
              "\n",
              "   rank_last_week.numberInt  weeks_on_list.numberInt  price.numberDouble  \n",
              "0                         1                        3               25.99  \n",
              "1                         2                        2               24.95  \n",
              "2                         0                        1               22.95  \n",
              "3                         0                        1               24.95  \n",
              "4                         3                        4               24.99  "
            ],
            "text/html": [
              "\n",
              "  <div id=\"df-a2b6ff90-da4d-42a2-bfbe-28de8964d203\" class=\"colab-df-container\">\n",
              "    <div>\n",
              "<style scoped>\n",
              "    .dataframe tbody tr th:only-of-type {\n",
              "        vertical-align: middle;\n",
              "    }\n",
              "\n",
              "    .dataframe tbody tr th {\n",
              "        vertical-align: top;\n",
              "    }\n",
              "\n",
              "    .dataframe thead th {\n",
              "        text-align: right;\n",
              "    }\n",
              "</style>\n",
              "<table border=\"1\" class=\"dataframe\">\n",
              "  <thead>\n",
              "    <tr style=\"text-align: right;\">\n",
              "      <th></th>\n",
              "      <th>amazon_product_url</th>\n",
              "      <th>author</th>\n",
              "      <th>description</th>\n",
              "      <th>publisher</th>\n",
              "      <th>title</th>\n",
              "      <th>oid</th>\n",
              "      <th>bestsellers_date.numberLong</th>\n",
              "      <th>published_date.numberLong</th>\n",
              "      <th>rank.numberInt</th>\n",
              "      <th>rank_last_week.numberInt</th>\n",
              "      <th>weeks_on_list.numberInt</th>\n",
              "      <th>price.numberDouble</th>\n",
              "    </tr>\n",
              "  </thead>\n",
              "  <tbody>\n",
              "    <tr>\n",
              "      <th>0</th>\n",
              "      <td>http://www.amazon.com/The-Host-Novel-Stephenie...</td>\n",
              "      <td>Stephenie Meyer</td>\n",
              "      <td>Aliens have taken control of the minds and bod...</td>\n",
              "      <td>Little, Brown</td>\n",
              "      <td>THE HOST</td>\n",
              "      <td>5b4aa4ead3089013507db18c</td>\n",
              "      <td>1211587200000</td>\n",
              "      <td>1212883200000</td>\n",
              "      <td>2</td>\n",
              "      <td>1</td>\n",
              "      <td>3</td>\n",
              "      <td>25.99</td>\n",
              "    </tr>\n",
              "    <tr>\n",
              "      <th>1</th>\n",
              "      <td>http://www.amazon.com/Love-Youre-With-Emily-Gi...</td>\n",
              "      <td>Emily Giffin</td>\n",
              "      <td>A woman's happy marriage is shaken when she en...</td>\n",
              "      <td>St. Martin's</td>\n",
              "      <td>LOVE THE ONE YOU'RE WITH</td>\n",
              "      <td>5b4aa4ead3089013507db18d</td>\n",
              "      <td>1211587200000</td>\n",
              "      <td>1212883200000</td>\n",
              "      <td>3</td>\n",
              "      <td>2</td>\n",
              "      <td>2</td>\n",
              "      <td>24.95</td>\n",
              "    </tr>\n",
              "    <tr>\n",
              "      <th>2</th>\n",
              "      <td>http://www.amazon.com/The-Front-Garano-Patrici...</td>\n",
              "      <td>Patricia Cornwell</td>\n",
              "      <td>A Massachusetts state investigator and his tea...</td>\n",
              "      <td>Putnam</td>\n",
              "      <td>THE FRONT</td>\n",
              "      <td>5b4aa4ead3089013507db18e</td>\n",
              "      <td>1211587200000</td>\n",
              "      <td>1212883200000</td>\n",
              "      <td>4</td>\n",
              "      <td>0</td>\n",
              "      <td>1</td>\n",
              "      <td>22.95</td>\n",
              "    </tr>\n",
              "    <tr>\n",
              "      <th>3</th>\n",
              "      <td>http://www.amazon.com/Snuff-Chuck-Palahniuk/dp...</td>\n",
              "      <td>Chuck Palahniuk</td>\n",
              "      <td>An aging porn queens aims to cap her career by...</td>\n",
              "      <td>Doubleday</td>\n",
              "      <td>SNUFF</td>\n",
              "      <td>5b4aa4ead3089013507db18f</td>\n",
              "      <td>1211587200000</td>\n",
              "      <td>1212883200000</td>\n",
              "      <td>5</td>\n",
              "      <td>0</td>\n",
              "      <td>1</td>\n",
              "      <td>24.95</td>\n",
              "    </tr>\n",
              "    <tr>\n",
              "      <th>4</th>\n",
              "      <td>http://www.amazon.com/Sundays-at-Tiffanys-Jame...</td>\n",
              "      <td>James Patterson and Gabrielle Charbonnet</td>\n",
              "      <td>A woman finds an unexpected love</td>\n",
              "      <td>Little, Brown</td>\n",
              "      <td>SUNDAYS AT TIFFANY’S</td>\n",
              "      <td>5b4aa4ead3089013507db190</td>\n",
              "      <td>1211587200000</td>\n",
              "      <td>1212883200000</td>\n",
              "      <td>6</td>\n",
              "      <td>3</td>\n",
              "      <td>4</td>\n",
              "      <td>24.99</td>\n",
              "    </tr>\n",
              "  </tbody>\n",
              "</table>\n",
              "</div>\n",
              "    <div class=\"colab-df-buttons\">\n",
              "\n",
              "  <div class=\"colab-df-container\">\n",
              "    <button class=\"colab-df-convert\" onclick=\"convertToInteractive('df-a2b6ff90-da4d-42a2-bfbe-28de8964d203')\"\n",
              "            title=\"Convert this dataframe to an interactive table.\"\n",
              "            style=\"display:none;\">\n",
              "\n",
              "  <svg xmlns=\"http://www.w3.org/2000/svg\" height=\"24px\" viewBox=\"0 -960 960 960\">\n",
              "    <path d=\"M120-120v-720h720v720H120Zm60-500h600v-160H180v160Zm220 220h160v-160H400v160Zm0 220h160v-160H400v160ZM180-400h160v-160H180v160Zm440 0h160v-160H620v160ZM180-180h160v-160H180v160Zm440 0h160v-160H620v160Z\"/>\n",
              "  </svg>\n",
              "    </button>\n",
              "\n",
              "  <style>\n",
              "    .colab-df-container {\n",
              "      display:flex;\n",
              "      gap: 12px;\n",
              "    }\n",
              "\n",
              "    .colab-df-convert {\n",
              "      background-color: #E8F0FE;\n",
              "      border: none;\n",
              "      border-radius: 50%;\n",
              "      cursor: pointer;\n",
              "      display: none;\n",
              "      fill: #1967D2;\n",
              "      height: 32px;\n",
              "      padding: 0 0 0 0;\n",
              "      width: 32px;\n",
              "    }\n",
              "\n",
              "    .colab-df-convert:hover {\n",
              "      background-color: #E2EBFA;\n",
              "      box-shadow: 0px 1px 2px rgba(60, 64, 67, 0.3), 0px 1px 3px 1px rgba(60, 64, 67, 0.15);\n",
              "      fill: #174EA6;\n",
              "    }\n",
              "\n",
              "    .colab-df-buttons div {\n",
              "      margin-bottom: 4px;\n",
              "    }\n",
              "\n",
              "    [theme=dark] .colab-df-convert {\n",
              "      background-color: #3B4455;\n",
              "      fill: #D2E3FC;\n",
              "    }\n",
              "\n",
              "    [theme=dark] .colab-df-convert:hover {\n",
              "      background-color: #434B5C;\n",
              "      box-shadow: 0px 1px 3px 1px rgba(0, 0, 0, 0.15);\n",
              "      filter: drop-shadow(0px 1px 2px rgba(0, 0, 0, 0.3));\n",
              "      fill: #FFFFFF;\n",
              "    }\n",
              "  </style>\n",
              "\n",
              "    <script>\n",
              "      const buttonEl =\n",
              "        document.querySelector('#df-a2b6ff90-da4d-42a2-bfbe-28de8964d203 button.colab-df-convert');\n",
              "      buttonEl.style.display =\n",
              "        google.colab.kernel.accessAllowed ? 'block' : 'none';\n",
              "\n",
              "      async function convertToInteractive(key) {\n",
              "        const element = document.querySelector('#df-a2b6ff90-da4d-42a2-bfbe-28de8964d203');\n",
              "        const dataTable =\n",
              "          await google.colab.kernel.invokeFunction('convertToInteractive',\n",
              "                                                    [key], {});\n",
              "        if (!dataTable) return;\n",
              "\n",
              "        const docLinkHtml = 'Like what you see? Visit the ' +\n",
              "          '<a target=\"_blank\" href=https://colab.research.google.com/notebooks/data_table.ipynb>data table notebook</a>'\n",
              "          + ' to learn more about interactive tables.';\n",
              "        element.innerHTML = '';\n",
              "        dataTable['output_type'] = 'display_data';\n",
              "        await google.colab.output.renderOutput(dataTable, element);\n",
              "        const docLink = document.createElement('div');\n",
              "        docLink.innerHTML = docLinkHtml;\n",
              "        element.appendChild(docLink);\n",
              "      }\n",
              "    </script>\n",
              "  </div>\n",
              "\n",
              "\n",
              "<div id=\"df-158766eb-418b-4b5a-a0b0-65c331b2db9b\">\n",
              "  <button class=\"colab-df-quickchart\" onclick=\"quickchart('df-158766eb-418b-4b5a-a0b0-65c331b2db9b')\"\n",
              "            title=\"Suggest charts\"\n",
              "            style=\"display:none;\">\n",
              "\n",
              "<svg xmlns=\"http://www.w3.org/2000/svg\" height=\"24px\"viewBox=\"0 0 24 24\"\n",
              "     width=\"24px\">\n",
              "    <g>\n",
              "        <path d=\"M19 3H5c-1.1 0-2 .9-2 2v14c0 1.1.9 2 2 2h14c1.1 0 2-.9 2-2V5c0-1.1-.9-2-2-2zM9 17H7v-7h2v7zm4 0h-2V7h2v10zm4 0h-2v-4h2v4z\"/>\n",
              "    </g>\n",
              "</svg>\n",
              "  </button>\n",
              "\n",
              "<style>\n",
              "  .colab-df-quickchart {\n",
              "      --bg-color: #E8F0FE;\n",
              "      --fill-color: #1967D2;\n",
              "      --hover-bg-color: #E2EBFA;\n",
              "      --hover-fill-color: #174EA6;\n",
              "      --disabled-fill-color: #AAA;\n",
              "      --disabled-bg-color: #DDD;\n",
              "  }\n",
              "\n",
              "  [theme=dark] .colab-df-quickchart {\n",
              "      --bg-color: #3B4455;\n",
              "      --fill-color: #D2E3FC;\n",
              "      --hover-bg-color: #434B5C;\n",
              "      --hover-fill-color: #FFFFFF;\n",
              "      --disabled-bg-color: #3B4455;\n",
              "      --disabled-fill-color: #666;\n",
              "  }\n",
              "\n",
              "  .colab-df-quickchart {\n",
              "    background-color: var(--bg-color);\n",
              "    border: none;\n",
              "    border-radius: 50%;\n",
              "    cursor: pointer;\n",
              "    display: none;\n",
              "    fill: var(--fill-color);\n",
              "    height: 32px;\n",
              "    padding: 0;\n",
              "    width: 32px;\n",
              "  }\n",
              "\n",
              "  .colab-df-quickchart:hover {\n",
              "    background-color: var(--hover-bg-color);\n",
              "    box-shadow: 0 1px 2px rgba(60, 64, 67, 0.3), 0 1px 3px 1px rgba(60, 64, 67, 0.15);\n",
              "    fill: var(--button-hover-fill-color);\n",
              "  }\n",
              "\n",
              "  .colab-df-quickchart-complete:disabled,\n",
              "  .colab-df-quickchart-complete:disabled:hover {\n",
              "    background-color: var(--disabled-bg-color);\n",
              "    fill: var(--disabled-fill-color);\n",
              "    box-shadow: none;\n",
              "  }\n",
              "\n",
              "  .colab-df-spinner {\n",
              "    border: 2px solid var(--fill-color);\n",
              "    border-color: transparent;\n",
              "    border-bottom-color: var(--fill-color);\n",
              "    animation:\n",
              "      spin 1s steps(1) infinite;\n",
              "  }\n",
              "\n",
              "  @keyframes spin {\n",
              "    0% {\n",
              "      border-color: transparent;\n",
              "      border-bottom-color: var(--fill-color);\n",
              "      border-left-color: var(--fill-color);\n",
              "    }\n",
              "    20% {\n",
              "      border-color: transparent;\n",
              "      border-left-color: var(--fill-color);\n",
              "      border-top-color: var(--fill-color);\n",
              "    }\n",
              "    30% {\n",
              "      border-color: transparent;\n",
              "      border-left-color: var(--fill-color);\n",
              "      border-top-color: var(--fill-color);\n",
              "      border-right-color: var(--fill-color);\n",
              "    }\n",
              "    40% {\n",
              "      border-color: transparent;\n",
              "      border-right-color: var(--fill-color);\n",
              "      border-top-color: var(--fill-color);\n",
              "    }\n",
              "    60% {\n",
              "      border-color: transparent;\n",
              "      border-right-color: var(--fill-color);\n",
              "    }\n",
              "    80% {\n",
              "      border-color: transparent;\n",
              "      border-right-color: var(--fill-color);\n",
              "      border-bottom-color: var(--fill-color);\n",
              "    }\n",
              "    90% {\n",
              "      border-color: transparent;\n",
              "      border-bottom-color: var(--fill-color);\n",
              "    }\n",
              "  }\n",
              "</style>\n",
              "\n",
              "  <script>\n",
              "    async function quickchart(key) {\n",
              "      const quickchartButtonEl =\n",
              "        document.querySelector('#' + key + ' button');\n",
              "      quickchartButtonEl.disabled = true;  // To prevent multiple clicks.\n",
              "      quickchartButtonEl.classList.add('colab-df-spinner');\n",
              "      try {\n",
              "        const charts = await google.colab.kernel.invokeFunction(\n",
              "            'suggestCharts', [key], {});\n",
              "      } catch (error) {\n",
              "        console.error('Error during call to suggestCharts:', error);\n",
              "      }\n",
              "      quickchartButtonEl.classList.remove('colab-df-spinner');\n",
              "      quickchartButtonEl.classList.add('colab-df-quickchart-complete');\n",
              "    }\n",
              "    (() => {\n",
              "      let quickchartButtonEl =\n",
              "        document.querySelector('#df-158766eb-418b-4b5a-a0b0-65c331b2db9b button');\n",
              "      quickchartButtonEl.style.display =\n",
              "        google.colab.kernel.accessAllowed ? 'block' : 'none';\n",
              "    })();\n",
              "  </script>\n",
              "</div>\n",
              "    </div>\n",
              "  </div>\n"
            ]
          },
          "metadata": {},
          "execution_count": 3
        }
      ],
      "source": [
        "df = pd.read_json(path1 +'Datasets/new_york_times_bestsellers-clean.json')\n",
        "\n",
        "df.head()\n"
      ]
    },
    {
      "cell_type": "code",
      "execution_count": 4,
      "metadata": {
        "id": "9rJJwpPKqbR_",
        "outputId": "208ab5d4-2b7c-4cda-8121-f97a6b221420",
        "colab": {
          "base_uri": "https://localhost:8080/"
        }
      },
      "outputs": [
        {
          "output_type": "execute_result",
          "data": {
            "text/plain": [
              "title\n",
              "10TH ANNIVERSARY            Detective Lindsay Boxer and the Women’s Murder...\n",
              "11TH HOUR                   Detective Lindsay Boxer and the Women’s Murder...\n",
              "1225 CHRISTMAS TREE LANE    Puppies and an ex-husband loom large in the la...\n",
              "1356                        In the fourth book of the Grail Quest series, ...\n",
              "1Q84                        In 1980s Tokyo, a woman who punishes perpetrat...\n",
              "                                                  ...                        \n",
              "Z                           A novel based on the lives of Zelda and F. Sco...\n",
              "ZERO DAY                       A military investigator uncovers a conspiracy.\n",
              "ZERO HISTORY                Several characters from “Spook Country” return...\n",
              "ZONE ONE                      Fighting zombies in post-apocalyptic Manhattan.\n",
              "ZOO                         A young biologist warns world leaders about th...\n",
              "Name: description, Length: 754, dtype: object"
            ]
          },
          "metadata": {},
          "execution_count": 4
        }
      ],
      "source": [
        "grouped_by_title = df.groupby('title')['description'].max()\n",
        "\n",
        "grouped_by_title"
      ]
    },
    {
      "cell_type": "markdown",
      "metadata": {
        "id": "XHt8eqBRqbR_"
      },
      "source": [
        "Primero hay que limpiar un poco nuestros textos:"
      ]
    },
    {
      "cell_type": "code",
      "execution_count": 5,
      "metadata": {
        "id": "C9E_1CkwqbR_",
        "outputId": "12d66e4d-3c9e-4182-9f43-a2524f1d420b",
        "colab": {
          "base_uri": "https://localhost:8080/"
        }
      },
      "outputs": [
        {
          "output_type": "execute_result",
          "data": {
            "text/plain": [
              "title\n",
              "10TH ANNIVERSARY            detective lindsay boxer and the womens murder ...\n",
              "11TH HOUR                   detective lindsay boxer and the womens murder ...\n",
              "1225 CHRISTMAS TREE LANE    puppies and an exhusband loom large in the las...\n",
              "1356                        in the fourth book of the grail quest series t...\n",
              "1Q84                        in s tokyo a woman who punishes perpetrators o...\n",
              "                                                  ...                        \n",
              "Z                           a novel based on the lives of zelda and f scot...\n",
              "ZERO DAY                        a military investigator uncovers a conspiracy\n",
              "ZERO HISTORY                several characters from spook country return t...\n",
              "ZONE ONE                        fighting zombies in postapocalyptic manhattan\n",
              "ZOO                         a young biologist warns world leaders about th...\n",
              "Name: description, Length: 754, dtype: object"
            ]
          },
          "metadata": {},
          "execution_count": 5
        }
      ],
      "source": [
        "grouped_by_title = grouped_by_title.str.lower()\n",
        "grouped_by_title = grouped_by_title.str.strip()\n",
        "grouped_by_title = grouped_by_title.str.replace('[^\\w\\s]', '', regex = True)\n",
        "grouped_by_title = grouped_by_title.str.replace('\\d', '', regex = True)\n",
        "grouped_by_title = grouped_by_title.str.replace('\\\\n', '', regex = True)\n",
        "grouped_by_title = grouped_by_title.dropna()\n",
        "\n",
        "grouped_by_title"
      ]
    },
    {
      "cell_type": "markdown",
      "source": [
        "nltk.download('punkt')"
      ],
      "metadata": {
        "id": "rjaJPcgoq7L4"
      }
    },
    {
      "cell_type": "code",
      "source": [
        "nltk.download('punkt')"
      ],
      "metadata": {
        "id": "J0oPe_uNq5TX",
        "outputId": "517421fb-0d53-4b33-9d1b-9741937fbcb4",
        "colab": {
          "base_uri": "https://localhost:8080/"
        }
      },
      "execution_count": 6,
      "outputs": [
        {
          "output_type": "stream",
          "name": "stderr",
          "text": [
            "[nltk_data] Downloading package punkt to /root/nltk_data...\n",
            "[nltk_data]   Unzipping tokenizers/punkt.zip.\n"
          ]
        },
        {
          "output_type": "execute_result",
          "data": {
            "text/plain": [
              "True"
            ]
          },
          "metadata": {},
          "execution_count": 6
        }
      ]
    },
    {
      "cell_type": "code",
      "execution_count": 7,
      "metadata": {
        "id": "1gw-FCZLqbSA"
      },
      "outputs": [],
      "source": [
        "# Separamos cada oración en palabras\n",
        "\n",
        "tokenized = grouped_by_title.apply(nltk.word_tokenize)"
      ]
    },
    {
      "cell_type": "code",
      "execution_count": 8,
      "metadata": {
        "id": "US1yzmxXqbSA",
        "outputId": "8b465dc4-b725-47fb-a814-e6145f95ae94",
        "colab": {
          "base_uri": "https://localhost:8080/"
        }
      },
      "outputs": [
        {
          "output_type": "execute_result",
          "data": {
            "text/plain": [
              "title\n",
              "10TH ANNIVERSARY            [detective, lindsay, boxer, and, the, womens, ...\n",
              "11TH HOUR                   [detective, lindsay, boxer, and, the, womens, ...\n",
              "1225 CHRISTMAS TREE LANE    [puppies, and, an, exhusband, loom, large, in,...\n",
              "1356                        [in, the, fourth, book, of, the, grail, quest,...\n",
              "1Q84                        [in, s, tokyo, a, woman, who, punishes, perpet...\n",
              "                                                  ...                        \n",
              "Z                           [a, novel, based, on, the, lives, of, zelda, a...\n",
              "ZERO DAY                    [a, military, investigator, uncovers, a, consp...\n",
              "ZERO HISTORY                [several, characters, from, spook, country, re...\n",
              "ZONE ONE                    [fighting, zombies, in, postapocalyptic, manha...\n",
              "ZOO                         [a, young, biologist, warns, world, leaders, a...\n",
              "Name: description, Length: 754, dtype: object"
            ]
          },
          "metadata": {},
          "execution_count": 8
        }
      ],
      "source": [
        "tokenized"
      ]
    },
    {
      "cell_type": "code",
      "execution_count": 9,
      "metadata": {
        "id": "gkBMpKkpqbSA"
      },
      "outputs": [],
      "source": [
        "all_words = tokenized.sum()"
      ]
    },
    {
      "cell_type": "code",
      "execution_count": 10,
      "metadata": {
        "id": "5izI7EvPqbSB",
        "outputId": "10ed5ed1-c56a-451d-ada0-3207e95dbf73",
        "colab": {
          "base_uri": "https://localhost:8080/"
        }
      },
      "outputs": [
        {
          "output_type": "stream",
          "name": "stdout",
          "text": [
            "<FreqDist with 3161 samples and 12569 outcomes>\n"
          ]
        }
      ],
      "source": [
        "# Utilizamos FreqDist para analizar la distribución de frecuencia de nuestras palabras\n",
        "\n",
        "freq_dist = nltk.FreqDist(all_words)\n",
        "\n",
        "print(freq_dist)"
      ]
    },
    {
      "cell_type": "code",
      "execution_count": 11,
      "metadata": {
        "id": "Nq2tx91cqbSB",
        "outputId": "4d7c1925-72b2-4353-bcd1-d664b646af68",
        "colab": {
          "base_uri": "https://localhost:8080/"
        }
      },
      "outputs": [
        {
          "output_type": "execute_result",
          "data": {
            "text/plain": [
              "[('a', 917),\n",
              " ('the', 778),\n",
              " ('of', 417),\n",
              " ('in', 364),\n",
              " ('to', 283),\n",
              " ('and', 280),\n",
              " ('an', 149),\n",
              " ('her', 137),\n",
              " ('is', 127),\n",
              " ('his', 123),\n",
              " ('who', 107),\n",
              " ('for', 102),\n",
              " ('with', 93),\n",
              " ('on', 71),\n",
              " ('from', 70),\n",
              " ('by', 68),\n",
              " ('series', 61),\n",
              " ('new', 61),\n",
              " ('woman', 60),\n",
              " ('that', 60),\n",
              " ('book', 57),\n",
              " ('detective', 52),\n",
              " ('murder', 51),\n",
              " ('novel', 49),\n",
              " ('when', 46),\n",
              " ('as', 42),\n",
              " ('killer', 41),\n",
              " ('at', 40),\n",
              " ('must', 39),\n",
              " ('has', 38),\n",
              " ('investigates', 38),\n",
              " ('young', 35),\n",
              " ('man', 35),\n",
              " ('life', 32),\n",
              " ('former', 32),\n",
              " ('she', 31),\n",
              " ('about', 30),\n",
              " ('their', 29),\n",
              " ('are', 28),\n",
              " ('war', 27),\n",
              " ('after', 27),\n",
              " ('family', 26),\n",
              " ('york', 26),\n",
              " ('two', 25),\n",
              " ('death', 25),\n",
              " ('world', 24),\n",
              " ('this', 24),\n",
              " ('agent', 24),\n",
              " ('into', 23),\n",
              " ('he', 23)]"
            ]
          },
          "metadata": {},
          "execution_count": 11
        }
      ],
      "source": [
        "freq_dist.most_common(50)"
      ]
    },
    {
      "cell_type": "markdown",
      "metadata": {
        "id": "W6mbz3pDqbSB"
      },
      "source": [
        "Vamos a eliminar las 'stop words'\n",
        "\n",
        "Para hacer esto tienes que correr primero el siguiente comando:\n",
        "\n",
        "`nltk.download('stopwords')`"
      ]
    },
    {
      "cell_type": "markdown",
      "source": [
        "\n",
        "Las stop words son palabras que se utilizan con frecuencia en el lenguaje, pero que no aportan información significativa. Por ejemplo, las palabras \"el\", \"la\", \"en\", \"de\", \"y\", \"a\", \"que\", \"son\", \"con\", etc., son stop words en español.\n",
        "\n"
      ],
      "metadata": {
        "id": "CztiVJuerVJp"
      }
    },
    {
      "cell_type": "markdown",
      "source": [
        "En inglés pueden ser: \"a\", \"an\", \"and\", etc"
      ],
      "metadata": {
        "id": "l-n6EaSXreY2"
      }
    },
    {
      "cell_type": "code",
      "source": [
        "nltk.download('stopwords')"
      ],
      "metadata": {
        "id": "6vhWbgt-rDts",
        "outputId": "08a9c856-41f6-4ab1-8d9a-d1ba5955aa48",
        "colab": {
          "base_uri": "https://localhost:8080/"
        }
      },
      "execution_count": 12,
      "outputs": [
        {
          "output_type": "stream",
          "name": "stderr",
          "text": [
            "[nltk_data] Downloading package stopwords to /root/nltk_data...\n",
            "[nltk_data]   Unzipping corpora/stopwords.zip.\n"
          ]
        },
        {
          "output_type": "execute_result",
          "data": {
            "text/plain": [
              "True"
            ]
          },
          "metadata": {},
          "execution_count": 12
        }
      ]
    },
    {
      "cell_type": "code",
      "execution_count": 13,
      "metadata": {
        "id": "DKTgEttxqbSB"
      },
      "outputs": [],
      "source": [
        "from nltk.corpus import stopwords"
      ]
    },
    {
      "cell_type": "code",
      "execution_count": 14,
      "metadata": {
        "id": "BhKtgcL-qbSB"
      },
      "outputs": [],
      "source": [
        "english_stop_words = stopwords.words('english')\n",
        "\n",
        "all_words_except_stop_words = [word for word in all_words if word not in english_stop_words]\n",
        "\n",
        "freq_dist_no_stop_words = nltk.FreqDist(all_words_except_stop_words)"
      ]
    },
    {
      "cell_type": "code",
      "source": [
        "# english_stop_words"
      ],
      "metadata": {
        "id": "1XyUnGlorrq-"
      },
      "execution_count": 15,
      "outputs": []
    },
    {
      "cell_type": "code",
      "execution_count": 16,
      "metadata": {
        "id": "zCpE3QEhqbSC",
        "outputId": "a96d85d7-136d-4fab-8dd2-76908271305c",
        "colab": {
          "base_uri": "https://localhost:8080/"
        }
      },
      "outputs": [
        {
          "output_type": "execute_result",
          "data": {
            "text/plain": [
              "[('series', 61),\n",
              " ('new', 61),\n",
              " ('woman', 60),\n",
              " ('book', 57),\n",
              " ('detective', 52),\n",
              " ('murder', 51),\n",
              " ('novel', 49),\n",
              " ('killer', 41),\n",
              " ('must', 39),\n",
              " ('investigates', 38),\n",
              " ('young', 35),\n",
              " ('man', 35),\n",
              " ('life', 32),\n",
              " ('former', 32),\n",
              " ('war', 27),\n",
              " ('family', 26),\n",
              " ('york', 26),\n",
              " ('two', 25),\n",
              " ('death', 25),\n",
              " ('world', 24),\n",
              " ('agent', 24),\n",
              " ('cia', 22),\n",
              " ('love', 22),\n",
              " ('secret', 21),\n",
              " ('discovers', 21),\n",
              " ('lawyer', 20),\n",
              " ('murdered', 20),\n",
              " ('finds', 20),\n",
              " ('eve', 19),\n",
              " ('th', 19),\n",
              " ('mother', 19),\n",
              " ('case', 19),\n",
              " ('women', 19),\n",
              " ('wife', 19),\n",
              " ('serial', 18),\n",
              " ('first', 18),\n",
              " ('secrets', 18),\n",
              " ('pursues', 18),\n",
              " ('investigator', 18),\n",
              " ('operative', 18),\n",
              " ('missing', 17),\n",
              " ('search', 17),\n",
              " ('searches', 17),\n",
              " ('help', 17),\n",
              " ('fbi', 17),\n",
              " ('stone', 17),\n",
              " ('years', 17),\n",
              " ('girl', 17),\n",
              " ('investigate', 16),\n",
              " ('one', 16)]"
            ]
          },
          "metadata": {},
          "execution_count": 16
        }
      ],
      "source": [
        "freq_dist_no_stop_words.most_common(50)"
      ]
    },
    {
      "cell_type": "code",
      "source": [
        "len(all_words_except_stop_words)"
      ],
      "metadata": {
        "id": "gBsCETzNQ8P2",
        "outputId": "4e032062-ad8b-43f3-ed51-2103969b414f",
        "colab": {
          "base_uri": "https://localhost:8080/"
        }
      },
      "execution_count": 17,
      "outputs": [
        {
          "output_type": "execute_result",
          "data": {
            "text/plain": [
              "7631"
            ]
          },
          "metadata": {},
          "execution_count": 17
        }
      ]
    },
    {
      "cell_type": "code",
      "execution_count": 18,
      "metadata": {
        "id": "x65lxguiqbSC",
        "outputId": "e5d5f610-914b-4173-cba9-f362778f23a3",
        "colab": {
          "base_uri": "https://localhost:8080/"
        }
      },
      "outputs": [
        {
          "output_type": "stream",
          "name": "stdout",
          "text": [
            "0.786%\n"
          ]
        }
      ],
      "source": [
        "# Conteo de una palabra y porcentaje de aparición\n",
        "\n",
        "print(f'{(100 * freq_dist_no_stop_words[\"woman\"] / len(all_words_except_stop_words)):.3f}%')"
      ]
    },
    {
      "cell_type": "code",
      "execution_count": 19,
      "metadata": {
        "id": "gR6ZbhUdqbSC",
        "outputId": "b3b41698-8ff0-4841-c3ee-fcda009e0902",
        "colab": {
          "base_uri": "https://localhost:8080/",
          "height": 520
        }
      },
      "outputs": [
        {
          "output_type": "display_data",
          "data": {
            "text/plain": [
              "<Figure size 640x480 with 1 Axes>"
            ],
            "image/png": "[encoded data removed]"
          },
          "metadata": {}
        }
      ],
      "source": [
        "# Veamos qué proporción del text está siendo ocupada por las 50 palabras más comunes\n",
        "\n",
        "freq_dist_no_stop_words.plot(50, cumulative=True);"
      ]
    },
    {
      "cell_type": "code",
      "execution_count": 20,
      "metadata": {
        "id": "TM3cNgUOqbSC",
        "outputId": "1f00d715-513b-493c-dd2b-e7f78ed27479",
        "colab": {
          "base_uri": "https://localhost:8080/"
        }
      },
      "outputs": [
        {
          "output_type": "execute_result",
          "data": {
            "text/plain": [
              "['puppies',\n",
              " 'loom',\n",
              " 'last',\n",
              " 'grail',\n",
              " 'poitiers',\n",
              " 'tokyo',\n",
              " 'punishes',\n",
              " 'domestic',\n",
              " 'aspiring',\n",
              " 'resent',\n",
              " 'draining',\n",
              " 'weakening',\n",
              " 'economy',\n",
              " 'earthquake',\n",
              " 'tests',\n",
              " 'countrys',\n",
              " 'jewish',\n",
              " 'mishandling',\n",
              " 'pregnant',\n",
              " 'shows',\n",
              " 'labor',\n",
              " 'stable',\n",
              " 'transformed',\n",
              " 'mountainclimbing',\n",
              " 'kenya',\n",
              " 'coldest',\n",
              " 'winter',\n",
              " 'ever',\n",
              " 'focuses',\n",
              " 'winters',\n",
              " 'younger',\n",
              " 'porsche',\n",
              " 'santiaga',\n",
              " 'assassinate',\n",
              " 'recovery',\n",
              " 'library',\n",
              " 'stirring',\n",
              " 'purpose',\n",
              " 'buddy',\n",
              " 'embraces',\n",
              " 'nanny',\n",
              " 'adoption',\n",
              " 'unleashes',\n",
              " 'capitol',\n",
              " 'night',\n",
              " 'dobbss',\n",
              " 'looming',\n",
              " 'oz',\n",
              " 'eyes',\n",
              " 'cowardly']"
            ]
          },
          "metadata": {},
          "execution_count": 20
        }
      ],
      "source": [
        "# Palabras que sólo aparecen una sola vez\n",
        "\n",
        "freq_dist_no_stop_words.hapaxes()[:50]"
      ]
    },
    {
      "cell_type": "code",
      "execution_count": 21,
      "metadata": {
        "id": "Vzbf63g9qbSD",
        "outputId": "295bfe3f-afa1-4d54-a3db-fc3a0b04a543",
        "colab": {
          "base_uri": "https://localhost:8080/"
        }
      },
      "outputs": [
        {
          "output_type": "execute_result",
          "data": {
            "text/plain": [
              "0            hunts\n",
              "1       washington\n",
              "2        hospitals\n",
              "3          arrival\n",
              "4       adventures\n",
              "           ...    \n",
              "3060         fever\n",
              "3061      literary\n",
              "3062      murdered\n",
              "3063        healer\n",
              "3064         river\n",
              "Length: 3065, dtype: object"
            ]
          },
          "metadata": {},
          "execution_count": 21
        }
      ],
      "source": [
        "# Palabras largas\n",
        "\n",
        "unique = set(all_words_except_stop_words)\n",
        "unique_series = pd.Series(list(unique))\n",
        "\n",
        "unique_series"
      ]
    },
    {
      "cell_type": "code",
      "execution_count": 22,
      "metadata": {
        "id": "mt0A-5Q0qbSD",
        "outputId": "684b7986-e94f-4fa6-b697-dbebe26ae2f5",
        "colab": {
          "base_uri": "https://localhost:8080/"
        }
      },
      "outputs": [
        {
          "output_type": "execute_result",
          "data": {
            "text/plain": [
              "29        singersongwriter\n",
              "704       autobiographical\n",
              "909       dissatisfactions\n",
              "1002     suicidebyaccident\n",
              "1648    turnofthethcentury\n",
              "1861     multigenerational\n",
              "2510      mountainclimbing\n",
              "2701      publicityseeking\n",
              "2811      counterterrorism\n",
              "2906      postthanksgiving\n",
              "dtype: object"
            ]
          },
          "metadata": {},
          "execution_count": 22
        }
      ],
      "source": [
        "unique_series[unique_series.str.len() > 15]"
      ]
    },
    {
      "cell_type": "code",
      "execution_count": 23,
      "metadata": {
        "id": "HkuJu-tEqbSD",
        "outputId": "e0051ab7-6f29-4e3a-e2af-3c3eeb48d0a2",
        "colab": {
          "base_uri": "https://localhost:8080/"
        }
      },
      "outputs": [
        {
          "output_type": "execute_result",
          "data": {
            "text/plain": [
              "526        complicated\n",
              "842        afghanistan\n",
              "1103      intelligence\n",
              "1422      investigator\n",
              "1628     investigation\n",
              "2341       generations\n",
              "2404    pseudonymously\n",
              "2672     disappearance\n",
              "2682       investigate\n",
              "2710      investigates\n",
              "dtype: object"
            ]
          },
          "metadata": {},
          "execution_count": 23
        }
      ],
      "source": [
        "# Palabras largas que son frecuentes\n",
        "\n",
        "larger_than_10 = unique_series.str.len() > 10\n",
        "is_frequent = unique_series.apply(lambda x: freq_dist_no_stop_words[x] > 5)\n",
        "\n",
        "unique_series[larger_than_10 & is_frequent]"
      ]
    },
    {
      "cell_type": "code",
      "execution_count": 24,
      "metadata": {
        "id": "d_8F9pt3qbSD"
      },
      "outputs": [],
      "source": [
        "# Podemos contar otras cosas, como la frecuencia de longitudes de nuestras palabras\n",
        "\n",
        "freq_dist_lengths = nltk.FreqDist([len(w) for w in all_words_except_stop_words])"
      ]
    },
    {
      "cell_type": "code",
      "execution_count": 25,
      "metadata": {
        "id": "L3xup8E6qbSE",
        "outputId": "68ad8eb1-781c-42b9-98d2-ea0efb84fd9b",
        "colab": {
          "base_uri": "https://localhost:8080/"
        }
      },
      "outputs": [
        {
          "output_type": "execute_result",
          "data": {
            "text/plain": [
              "[(5, 1382),\n",
              " (6, 1364),\n",
              " (7, 1212),\n",
              " (4, 1051),\n",
              " (8, 707),\n",
              " (9, 586),\n",
              " (3, 471),\n",
              " (10, 354),\n",
              " (11, 164),\n",
              " (12, 157),\n",
              " (2, 60),\n",
              " (13, 60),\n",
              " (14, 30),\n",
              " (16, 11),\n",
              " (15, 11),\n",
              " (1, 8),\n",
              " (17, 2),\n",
              " (18, 1)]"
            ]
          },
          "metadata": {},
          "execution_count": 25
        }
      ],
      "source": [
        "freq_dist_lengths.most_common()"
      ]
    },
    {
      "cell_type": "code",
      "execution_count": 26,
      "metadata": {
        "id": "0VtmrBW9qbSE",
        "outputId": "09b97029-d7a9-4492-8264-0e370a9df14a",
        "colab": {
          "base_uri": "https://localhost:8080/"
        }
      },
      "outputs": [
        {
          "output_type": "execute_result",
          "data": {
            "text/plain": [
              "5"
            ]
          },
          "metadata": {},
          "execution_count": 26
        }
      ],
      "source": [
        "freq_dist_lengths.max()"
      ]
    },
    {
      "cell_type": "code",
      "execution_count": 27,
      "metadata": {
        "id": "CmDxmddNqbSE",
        "outputId": "5ee28efe-4c9d-4d0b-db2c-ce2d13eac2af",
        "colab": {
          "base_uri": "https://localhost:8080/"
        }
      },
      "outputs": [
        {
          "output_type": "execute_result",
          "data": {
            "text/plain": [
              "1382"
            ]
          },
          "metadata": {},
          "execution_count": 27
        }
      ],
      "source": [
        "freq_dist_lengths[5]"
      ]
    },
    {
      "cell_type": "code",
      "execution_count": 28,
      "metadata": {
        "id": "3Tqb9BMLqbSE",
        "outputId": "1dbb4772-e5cd-46c4-df2e-1f2b4524c0f6",
        "colab": {
          "base_uri": "https://localhost:8080/"
        }
      },
      "outputs": [
        {
          "output_type": "execute_result",
          "data": {
            "text/plain": [
              "0.18110339405058315"
            ]
          },
          "metadata": {},
          "execution_count": 28
        }
      ],
      "source": [
        "# También podemos saber qué proporción del total de palabras tiene longitud de 5\n",
        "\n",
        "freq_dist_lengths.freq(5)"
      ]
    }
  ],
  "metadata": {
    "kernelspec": {
      "display_name": "Python (data_science)",
      "language": "python",
      "name": "data_science"
    },
    "language_info": {
      "codemirror_mode": {
        "name": "ipython",
        "version": 3
      },
      "file_extension": ".py",
      "mimetype": "text/x-python",
      "name": "python",
      "nbconvert_exporter": "python",
      "pygments_lexer": "ipython3",
      "version": "3.8.5"
    },
    "colab": {
      "provenance": [],
      "include_colab_link": true
    }
  },
  "nbformat": 4,
  "nbformat_minor": 0
}